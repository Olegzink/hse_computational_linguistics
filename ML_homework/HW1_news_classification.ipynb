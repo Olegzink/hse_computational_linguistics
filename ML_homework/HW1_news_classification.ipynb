{
  "nbformat": 4,
  "nbformat_minor": 0,
  "metadata": {
    "colab": {
      "name": "HW1-news_classification",
      "provenance": []
    },
    "kernelspec": {
      "name": "python3",
      "display_name": "Python 3"
    },
    "language_info": {
      "name": "python"
    }
  },
  "cells": [
    {
      "cell_type": "code",
      "metadata": {
        "id": "FRWhGTntjflk"
      },
      "source": [
        "import numpy as np\n",
        "import pandas as pd\n",
        "\n",
        "from sklearn import feature_extraction, model_selection, naive_bayes, metrics, svm\n",
        "from sklearn.tree import DecisionTreeClassifier\n",
        "from sklearn.ensemble import RandomForestClassifier, GradientBoostingClassifier\n",
        "\n",
        "import numpy as np\n",
        "import pandas as pd\n",
        "import re\n",
        "import nltk\n",
        "from nltk.stem import PorterStemmer\n",
        "from nltk.stem.wordnet import WordNetLemmatizer\n",
        "from nltk.tag import pos_tag\n",
        "from nltk.tokenize import word_tokenize\n",
        "import matplotlib.pyplot as plt\n",
        "import sklearn\n",
        "from sklearn.feature_extraction.text import TfidfVectorizer, CountVectorizer\n",
        "from sklearn.model_selection import train_test_split\n",
        "from sklearn.feature_extraction import text\n",
        "from sklearn.model_selection import train_test_split\n",
        "from sklearn.pipeline import Pipeline\n",
        "from sklearn.model_selection import GridSearchCV\n",
        "from sklearn.feature_extraction import text\n",
        "# models\n",
        "from sklearn.ensemble import RandomForestClassifier, GradientBoostingClassifier, ExtraTreesClassifier\n",
        "from sklearn.linear_model import SGDClassifier\n",
        "from sklearn.tree import DecisionTreeClassifier\n",
        "from sklearn.linear_model import LogisticRegression\n",
        "from sklearn.svm import SVC\n",
        "from sklearn.naive_bayes import MultinomialNB\n",
        "# metrics\n",
        "from sklearn.metrics import classification_report, accuracy_score, confusion_matrix\n",
        "from sklearn.model_selection import cross_val_score\n",
        "\n",
        "import matplotlib.pyplot as plt\n",
        "from collections import Counter\n",
        "\n",
        "# import warnings\n",
        "# warnings.filterwarnings(\"ignore\")\n",
        "# %matplotlib inline"
      ],
      "execution_count": null,
      "outputs": []
    },
    {
      "cell_type": "code",
      "metadata": {
        "colab": {
          "base_uri": "https://localhost:8080/"
        },
        "id": "FLzc-LFyssju",
        "outputId": "df6b202a-7bc7-494c-9424-afd7f3db578a"
      },
      "source": [
        "nltk.download('wordnet')\n",
        "nltk.download('punkt')\n",
        "nltk.download('averaged_perceptron_tagger')"
      ],
      "execution_count": null,
      "outputs": [
        {
          "output_type": "stream",
          "text": [
            "[nltk_data] Downloading package wordnet to /root/nltk_data...\n",
            "[nltk_data]   Package wordnet is already up-to-date!\n",
            "[nltk_data] Downloading package punkt to /root/nltk_data...\n",
            "[nltk_data]   Package punkt is already up-to-date!\n",
            "[nltk_data] Downloading package averaged_perceptron_tagger to\n",
            "[nltk_data]     /root/nltk_data...\n",
            "[nltk_data]   Unzipping taggers/averaged_perceptron_tagger.zip.\n"
          ],
          "name": "stdout"
        },
        {
          "output_type": "execute_result",
          "data": {
            "text/plain": [
              "True"
            ]
          },
          "metadata": {
            "tags": []
          },
          "execution_count": 19
        }
      ]
    },
    {
      "cell_type": "code",
      "metadata": {
        "colab": {
          "base_uri": "https://localhost:8080/"
        },
        "id": "KiMOUs37u7Ct",
        "outputId": "c15d44a7-0216-4242-da3e-9afcd63c51c8"
      },
      "source": [
        "from google.colab import drive\n",
        "drive.mount('/content/drive')"
      ],
      "execution_count": null,
      "outputs": [
        {
          "output_type": "stream",
          "text": [
            "Mounted at /content/drive\n"
          ],
          "name": "stdout"
        }
      ]
    },
    {
      "cell_type": "code",
      "metadata": {
        "colab": {
          "base_uri": "https://localhost:8080/",
          "height": 256
        },
        "id": "EMm2ZfEQvEiw",
        "outputId": "9508e9ce-96b7-4f42-b596-cd281a4fb4ed"
      },
      "source": [
        "data = pd.read_csv(\"/content/drive/MyDrive/datasets/ml_homework/news_fake-n-true.csv\")\n",
        "data.head(4)"
      ],
      "execution_count": null,
      "outputs": [
        {
          "output_type": "execute_result",
          "data": {
            "text/html": [
              "<div>\n",
              "<style scoped>\n",
              "    .dataframe tbody tr th:only-of-type {\n",
              "        vertical-align: middle;\n",
              "    }\n",
              "\n",
              "    .dataframe tbody tr th {\n",
              "        vertical-align: top;\n",
              "    }\n",
              "\n",
              "    .dataframe thead th {\n",
              "        text-align: right;\n",
              "    }\n",
              "</style>\n",
              "<table border=\"1\" class=\"dataframe\">\n",
              "  <thead>\n",
              "    <tr style=\"text-align: right;\">\n",
              "      <th></th>\n",
              "      <th>Unnamed: 0</th>\n",
              "      <th>title</th>\n",
              "      <th>text</th>\n",
              "      <th>subject</th>\n",
              "      <th>date</th>\n",
              "      <th>label</th>\n",
              "    </tr>\n",
              "  </thead>\n",
              "  <tbody>\n",
              "    <tr>\n",
              "      <th>0</th>\n",
              "      <td>0</td>\n",
              "      <td>ADVISORY: Story on Kushner visiting Iraq withd...</td>\n",
              "      <td>(Reuters) - The story “Trump son-in-law Jared ...</td>\n",
              "      <td>politicsNews</td>\n",
              "      <td>April 3, 2017</td>\n",
              "      <td>1</td>\n",
              "    </tr>\n",
              "    <tr>\n",
              "      <th>1</th>\n",
              "      <td>1</td>\n",
              "      <td>Kasich campaign denies report of Romney endors...</td>\n",
              "      <td>WASHINGTON (Reuters) - Republican presidential...</td>\n",
              "      <td>politicsNews</td>\n",
              "      <td>March 14, 2016</td>\n",
              "      <td>1</td>\n",
              "    </tr>\n",
              "    <tr>\n",
              "      <th>2</th>\n",
              "      <td>2</td>\n",
              "      <td>WATCH: Colbert Devises Perfect Advertisement ...</td>\n",
              "      <td>If America is going to end the day Donald Trum...</td>\n",
              "      <td>News</td>\n",
              "      <td>May 20, 2016</td>\n",
              "      <td>0</td>\n",
              "    </tr>\n",
              "    <tr>\n",
              "      <th>3</th>\n",
              "      <td>3</td>\n",
              "      <td>Trump says hopes for Cuban 'freedom' after Cas...</td>\n",
              "      <td>WEST PALM BEACH, Fla. (Reuters) - U.S. Preside...</td>\n",
              "      <td>politicsNews</td>\n",
              "      <td>November 26, 2016</td>\n",
              "      <td>1</td>\n",
              "    </tr>\n",
              "  </tbody>\n",
              "</table>\n",
              "</div>"
            ],
            "text/plain": [
              "   Unnamed: 0  ... label\n",
              "0           0  ...     1\n",
              "1           1  ...     1\n",
              "2           2  ...     0\n",
              "3           3  ...     1\n",
              "\n",
              "[4 rows x 6 columns]"
            ]
          },
          "metadata": {
            "tags": []
          },
          "execution_count": 6
        }
      ]
    },
    {
      "cell_type": "code",
      "metadata": {
        "colab": {
          "base_uri": "https://localhost:8080/",
          "height": 417
        },
        "id": "3_hW5BA-vhoE",
        "outputId": "4fda7cf5-8664-427d-97b9-1b86ad7b400f"
      },
      "source": [
        "data_clean = data.drop(['Unnamed: 0','title','subject','date'], axis=1)\n",
        "display(data_clean)"
      ],
      "execution_count": null,
      "outputs": [
        {
          "output_type": "display_data",
          "data": {
            "text/html": [
              "<div>\n",
              "<style scoped>\n",
              "    .dataframe tbody tr th:only-of-type {\n",
              "        vertical-align: middle;\n",
              "    }\n",
              "\n",
              "    .dataframe tbody tr th {\n",
              "        vertical-align: top;\n",
              "    }\n",
              "\n",
              "    .dataframe thead th {\n",
              "        text-align: right;\n",
              "    }\n",
              "</style>\n",
              "<table border=\"1\" class=\"dataframe\">\n",
              "  <thead>\n",
              "    <tr style=\"text-align: right;\">\n",
              "      <th></th>\n",
              "      <th>text</th>\n",
              "      <th>label</th>\n",
              "    </tr>\n",
              "  </thead>\n",
              "  <tbody>\n",
              "    <tr>\n",
              "      <th>0</th>\n",
              "      <td>(Reuters) - The story “Trump son-in-law Jared ...</td>\n",
              "      <td>1</td>\n",
              "    </tr>\n",
              "    <tr>\n",
              "      <th>1</th>\n",
              "      <td>WASHINGTON (Reuters) - Republican presidential...</td>\n",
              "      <td>1</td>\n",
              "    </tr>\n",
              "    <tr>\n",
              "      <th>2</th>\n",
              "      <td>If America is going to end the day Donald Trum...</td>\n",
              "      <td>0</td>\n",
              "    </tr>\n",
              "    <tr>\n",
              "      <th>3</th>\n",
              "      <td>WEST PALM BEACH, Fla. (Reuters) - U.S. Preside...</td>\n",
              "      <td>1</td>\n",
              "    </tr>\n",
              "    <tr>\n",
              "      <th>4</th>\n",
              "      <td>Well, it seems that despite the efforts of not...</td>\n",
              "      <td>0</td>\n",
              "    </tr>\n",
              "    <tr>\n",
              "      <th>...</th>\n",
              "      <td>...</td>\n",
              "      <td>...</td>\n",
              "    </tr>\n",
              "    <tr>\n",
              "      <th>44893</th>\n",
              "      <td>Donald Trump s economic proposals would be dis...</td>\n",
              "      <td>0</td>\n",
              "    </tr>\n",
              "    <tr>\n",
              "      <th>44894</th>\n",
              "      <td>INDIANAPOLIS (Reuters) - President Donald Trum...</td>\n",
              "      <td>1</td>\n",
              "    </tr>\n",
              "    <tr>\n",
              "      <th>44895</th>\n",
              "      <td>During a private meeting of the most senior Re...</td>\n",
              "      <td>0</td>\n",
              "    </tr>\n",
              "    <tr>\n",
              "      <th>44896</th>\n",
              "      <td>AMMAN (Reuters) - Sabih al-Masri, Jordan s mos...</td>\n",
              "      <td>1</td>\n",
              "    </tr>\n",
              "    <tr>\n",
              "      <th>44897</th>\n",
              "      <td>BEIRUT (Reuters) - Lebanese President Michel A...</td>\n",
              "      <td>1</td>\n",
              "    </tr>\n",
              "  </tbody>\n",
              "</table>\n",
              "<p>44898 rows × 2 columns</p>\n",
              "</div>"
            ],
            "text/plain": [
              "                                                    text  label\n",
              "0      (Reuters) - The story “Trump son-in-law Jared ...      1\n",
              "1      WASHINGTON (Reuters) - Republican presidential...      1\n",
              "2      If America is going to end the day Donald Trum...      0\n",
              "3      WEST PALM BEACH, Fla. (Reuters) - U.S. Preside...      1\n",
              "4      Well, it seems that despite the efforts of not...      0\n",
              "...                                                  ...    ...\n",
              "44893  Donald Trump s economic proposals would be dis...      0\n",
              "44894  INDIANAPOLIS (Reuters) - President Donald Trum...      1\n",
              "44895  During a private meeting of the most senior Re...      0\n",
              "44896  AMMAN (Reuters) - Sabih al-Masri, Jordan s mos...      1\n",
              "44897  BEIRUT (Reuters) - Lebanese President Michel A...      1\n",
              "\n",
              "[44898 rows x 2 columns]"
            ]
          },
          "metadata": {
            "tags": []
          }
        }
      ]
    },
    {
      "cell_type": "code",
      "metadata": {
        "colab": {
          "base_uri": "https://localhost:8080/",
          "height": 392
        },
        "id": "P1Dtw-9cvqK6",
        "outputId": "367934c1-b5bf-406b-892d-cb493033d55c"
      },
      "source": [
        "##########################\n",
        "# analizing possible dataset imbalance\n",
        "##########################\n",
        "\n",
        "plot_size = plt.rcParams[\"figure.figsize\"]\n",
        "print(plot_size[0])\n",
        "print(plot_size[1])\n",
        "\n",
        "plot_size[0] = 8\n",
        "plot_size[1] = 6\n",
        "plt.rcParams[\"figure.figsize\"] = plot_size\n",
        "# there's evident imbalance in categories\n",
        "data_clean.label.value_counts().plot(kind='pie', autopct='%1.0f%%')\n",
        "plt.show()"
      ],
      "execution_count": null,
      "outputs": [
        {
          "output_type": "stream",
          "text": [
            "8.0\n",
            "6.0\n"
          ],
          "name": "stdout"
        },
        {
          "output_type": "display_data",
          "data": {
            "image/png": "[encoded data removed]",
            "text/plain": [
              "<Figure size 576x432 with 1 Axes>"
            ]
          },
          "metadata": {
            "tags": []
          }
        }
      ]
    },
    {
      "cell_type": "code",
      "metadata": {
        "colab": {
          "base_uri": "https://localhost:8080/"
        },
        "id": "g1X4a70bvzIK",
        "outputId": "1ebbdd82-7f46-4686-a86b-9b18e0743d2c"
      },
      "source": [
        "# analize - are there any NaN values. \n",
        "data_clean.isna().sum() "
      ],
      "execution_count": null,
      "outputs": [
        {
          "output_type": "execute_result",
          "data": {
            "text/plain": [
              "text     0\n",
              "label    0\n",
              "dtype: int64"
            ]
          },
          "metadata": {
            "tags": []
          },
          "execution_count": 12
        }
      ]
    },
    {
      "cell_type": "code",
      "metadata": {
        "colab": {
          "base_uri": "https://localhost:8080/"
        },
        "id": "Y9EX1VD-wNHb",
        "outputId": "f04ce2ce-5ace-4052-f00a-0ab160fd6f00"
      },
      "source": [
        "##########################\n",
        "# preparing lemmatized text features\n",
        "##########################\n",
        "\n",
        "# lemmatizing\n",
        "lemmatizer = WordNetLemmatizer()\n",
        "\n",
        "def lemmatize(text):\n",
        "    '''lemmatizes text for the given pos tags - NN,VB,JJ'''\n",
        "\n",
        "    wnl = WordNetLemmatizer()\n",
        "    for word, tag in pos_tag(word_tokenize(text)):\n",
        "\n",
        "        if tag.startswith(\"NN\"):\n",
        "            yield wnl.lemmatize(word, pos='n')\n",
        "        elif tag.startswith('VB'):\n",
        "            yield wnl.lemmatize(word, pos='v')\n",
        "        elif tag.startswith('JJ'):\n",
        "            yield wnl.lemmatize(word, pos='a')\n",
        "        else:\n",
        "            yield word\n",
        "\n",
        "def preprocess_text(text):\n",
        "    '''Removes html tags, '\\n', double spaces and 'nbsp;', etc.'''\n",
        "\n",
        "    TAG_RE = re.compile(r'<[^>]+>')\n",
        "    text = TAG_RE.sub('', text)\n",
        "    text = re.sub(' +', ' ', text)\n",
        "    text = text.replace(\"&nbsp;\", \" \")\n",
        "    text = text.replace(\"\\n\", \" \")\n",
        "    # Remove all the special characters\n",
        "    text = re.sub(r'\\W', ' ', str(text))\n",
        "    # remove all single characters\n",
        "    text = re.sub(r'\\s+[a-zA-Z]\\s+', ' ', text)\n",
        "    # Remove single characters from the start\n",
        "    text = re.sub(r'\\^[a-zA-Z]\\s+', ' ', text)\n",
        "    # Substituting multiple spaces with single space\n",
        "    text = re.sub(r'\\s+', ' ', text, flags=re.I)\n",
        "    # Removing prefixed 'b'\n",
        "    text = re.sub(r'^b\\s+', '', text)\n",
        "    # Converting to Lowercase\n",
        "    text = text.lower()\n",
        "\n",
        "    return text\n",
        "\n",
        "data_clean['text'] = data_clean['text'].apply(lambda text: preprocess_text(text))\n",
        "data_clean['text'] = data_clean['text'].apply(lambda text: ' '.join(lemmatize(text)))\n",
        "\n",
        "print(data_clean['text'][100:200])"
      ],
      "execution_count": null,
      "outputs": [
        {
          "output_type": "stream",
          "text": [
            "100    washington reuters president donald trump try ...\n",
            "101    they shoot him in the head with 45 they find o...\n",
            "102    two florida republican lawmaker vote against 1...\n",
            "103    jill stein green party candidate for president...\n",
            "104    just one day after paul ryan fail to garner su...\n",
            "                             ...                        \n",
            "195    when you think of civil right activist it not ...\n",
            "196    beijing reuters japan talk only about sanction...\n",
            "197    of course there no official word from the whit...\n",
            "198    washington reuters obama administration offici...\n",
            "199    lyin donald trump tweet this morning that form...\n",
            "Name: text, Length: 100, dtype: object\n"
          ],
          "name": "stdout"
        }
      ]
    },
    {
      "cell_type": "code",
      "metadata": {
        "id": "ZmkRWm186X7J"
      },
      "source": [
        "data_clean.to_csv('/content/drive/MyDrive/datasets/ml_homework/fake_preprocessed.csv')"
      ],
      "execution_count": null,
      "outputs": []
    },
    {
      "cell_type": "code",
      "metadata": {
        "colab": {
          "base_uri": "https://localhost:8080/"
        },
        "id": "uFQLOocq6iJo",
        "outputId": "daed611c-6b75-4fee-dd98-fbad5c58c61c"
      },
      "source": [
        "##########################\n",
        "# preparing features/labels datasets\n",
        "##########################\n",
        "\n",
        "features = data_clean.iloc[:, 0].values\n",
        "labels = data_clean.iloc[:, 1].values\n",
        "\n",
        "print(features)\n",
        "print(labels)"
      ],
      "execution_count": null,
      "outputs": [
        {
          "output_type": "stream",
          "text": [
            "['reuters the story trump son in law jar kushner visit iraq official say the accompany alert and subsequent update be wrong and be withdraw substitute story be available here'\n",
            " 'washington reuters republican presidential candidate john kasich campaign on monday deny report that mitt romney the party presidential candidate in 2012 would endorse the ohio governor on monday wall street journal reporter say kasich answer in the affirmative to question about romney endorsement kasich spokesman chris schrimpf say this be not true kasich be respond and acknowledge different question romney endorsement would have provide kasich with boost on the eve of ohio primary in which he and front runner donald trump be run close race for first place'\n",
            " 'if america be go to end the day donald trump take the nomination at the gop convention stephen colbert be not go to miss out on mock it during the late show on thursday night colbert relentlessly mock the presumptive republican presidential nominee for run his campaign like reality show because he want to wait until the convention in cleveland to announce his vice presidential running mate it an apt metaphor because this year republican convention will be the series finale of america colbert quip can wait to see the in memoriam reel for liberty with that say colbert and his team put together hilarious ad fittingly describe the convention and how it might go down in short just like monster truck rally monday tuesday wednesday thursday july 18 21 four day television event that go to rock what leave of america it the trump republican national convention there go to be yell angry white men hat with word on them watch donald trump rope and brand naked ted cruz but that not all touch real brain at dr ben carson freakatorium and don miss the marital cage match three wife enter one wife leave and someone will be punch plus donald will announce his run mate truckasaurus july 18 21 come one come all unless you re muslim or mexican or woman who not 10 here the video yeah that definitely the perfect way to think about the republican national convention it nothing more than glorified monster truck rally for redneck racist who want to see america come to an embarrassing end hopefully most american be watch the gop trump circus in utter horror and will be highly motivate to vote in november against it if not we all better get ready to kiss civilization goodbye feature image via screenshot'\n",
            " ...\n",
            " 'during private meeting of the most senior republican senator gop leader laugh out loud at the idea that trump border wall would ever be build the explosive revelation come from laura ingraham new book billionaire at the barricade the populist revolution from reagan to trump ingraham report that her source be there in the room when it happen and that the sordid episode be reminder that the populist movement that deliver trump into office must remain vigilant and keep the heat on the gop establishment the bestselling author and new fox news primetime host argue that republican will pay an enormous political price if the gop establishment succeed in torpedo president trump border wall mark these word if wall physical wall be not erect along our southern border the president and his party will pay severe political price writes ingraham she add like george bush promise to read his lip no new tax the promise of border wall be sear pledge to the american people billionaire at the barricade also dismantle argument against the cost of erect the border wall the notion that congress can find 25 billion the high end estimate cost of build the wall in our nearly 4 trillion annual budget be absurd democrat have never meet spending or building project they didn like but now all of sudden they re fiscal hawk get real and the establishment republican who cower in the corner for eight year while obama nearly double the national debt to 19 trillion dollar now expect us to believe they re courageous penny pinchers spare us for entire story breitbart'\n",
            " 'amman reuters sabih al masri jordan most influential businessman and the chairman of its large lender arab bank be detain in saudi arabia for question after business trip to riyadh family source and friend say on saturday masri detention which follow the big purge of the saudi kingdom affluent elite in its modern history have send shockwaves through business circle in jordan and the palestinian territory where the billionaire have major investment saudi citizen of palestinian origin masri be detain last tuesday hour before he be plan to leave after he chair meeting of company he own accord to the source he be the founder of saudi astra group which have wide interest in diversified industry range from agro industry to telecommunications construction and mining across the region masri be head to the airport and they tell him to stay where you be and they pick him up say source familiar with the matter who ask not to be name he cancel dinner in amman on wednesday that he have invite board member of arab bank and business associate to attend on his return the saudi authority do not respond to request for comment while masri could not be reach for comment his confidant have warn him not to travel to the saudi capital after mass arrest of saudi royal minister and businessmen in early november the source say he have be answer question about his business and partner say source familiar with the matter who do not elaborate nor confirm he be hold source close to the family later say that while masri be currently restrict from leave saudi arabia no official charge have be file against him reason for masri detention be not clear but political source say the saudi might have use him to put pressure on jordan king abdullah not to attend muslim summit last week to discuss president donald trump decision to recognize jerusalem as israel capital the jordanian monarch attend the istanbul summit however he be custodian of muslim holy site in jerusalem and have be vocal in criticize trump over his decision on jerusalem saudi arabia whose relation with the united state have warm with trump take hard line against its arch rival iran than his predecessor appear to have take soft line on the decision on jerusalem accord to analyst riyadh sent junior minister to the istanbul meeting masri who come from prominent merchant family from nablus in the israeli occupied west bank amass fortune from partner with influential saudi in major cater business to supply troop during the led military operation to retake kuwait from iraq in the 1991 gulf war report of his detention surface on thursday in the local medium in jordan where masri multi billion dollar investment in hotel and banking be cornerstone of the economy he be elect chairman of arab bank in 2012 after the resignation of abdel hamid shoman whose family have found the bank in jerusalem in 1930 the bank which have earn reputation of resilience in the face of political upheaval play prominent role in support former palestinian leader the late yasser arafat during past middle east turmoil arab bank which operate in 30 country and five continent have an extensive network in palestinian territory where it be the large bank it also own 40 percent of saudi arabia arab national bank anb masri lead consortium of arab and jordanian investor who buy 20 percent stake in arab bank group from lebanon hariri family business empire for 1 12 billion last february he be also instrumental in agree in 2015 to settle litigation bring by hundred of american who accuse arab bank of provide financial service in the west bank that facilitate militant attack in israel they have sue arab bank under the anti terrorism act which permit citizen to pursue claim arise from international terrorism masri be also the lead investor in the palestinian territory with large stake in paltel public shareholding company which be the large private sector firm in the west bank masri family rank among the wealthy in the palestinian territory with majority holding in real estate hotel and telecommunication firm set up after self rule agreement with israel in 1993'\n",
            " 'beirut reuters lebanese president michel aoun say on thursday that saad al hariri will arrive in paris on saturday with his family where he will remain for few day before come to beirut lebanese politician say in statement after meet aoun hariri announce his resignation as lebanese prime minister in televise broadcast from saudi arabia on nov 4 and have not return to beirut since aoun have say hariri must return and submit his resignation in person this version of the story correct source in headline']\n",
            "[1 1 0 ... 0 1 1]\n"
          ],
          "name": "stdout"
        }
      ]
    },
    {
      "cell_type": "code",
      "metadata": {
        "colab": {
          "base_uri": "https://localhost:8080/"
        },
        "id": "-Ai33aKv60VX",
        "outputId": "975b47eb-7648-4356-9452-a6c70ce0e62d"
      },
      "source": [
        "##################\n",
        "# vectorizing text with Tf-idf\n",
        "##################\n",
        "\n",
        "# tf_idf_params\n",
        "max_features = 7500\n",
        "min_df = 0\n",
        "decode_error = 'ignore'\n",
        "max_df = 0.8\n",
        "stop_words = text.ENGLISH_STOP_WORDS\n",
        "analyzer = 'word'\n",
        "\n",
        "vectorizer = TfidfVectorizer(max_features=max_features, min_df=min_df, decode_error=decode_error, max_df=max_df, stop_words=stop_words)\n",
        "# vectorizer = CountVectorizer(stop_words=en_stop_words, max_features=10000)\n",
        "processed_features = vectorizer.fit_transform(features).toarray()\n",
        "\n",
        "print(processed_features)\n",
        "\n",
        "result = np.where(processed_features > 0)\n",
        "print(list(result))"
      ],
      "execution_count": null,
      "outputs": [
        {
          "output_type": "stream",
          "text": [
            "[[0. 0. 0. ... 0. 0. 0.]\n",
            " [0. 0. 0. ... 0. 0. 0.]\n",
            " [0. 0. 0. ... 0. 0. 0.]\n",
            " ...\n",
            " [0. 0. 0. ... 0. 0. 0.]\n",
            " [0. 0. 0. ... 0. 0. 0.]\n",
            " [0. 0. 0. ... 0. 0. 0.]]\n",
            "[array([    0,     0,     0, ..., 44897, 44897, 44897]), array([ 256,  408,  682, ..., 6730, 6808, 7189])]\n"
          ],
          "name": "stdout"
        }
      ]
    },
    {
      "cell_type": "code",
      "metadata": {
        "id": "Qm2kQ7Km67ts"
      },
      "source": [
        "##########################\n",
        "# Train-test split\n",
        "##########################\n",
        "X_train, X_test, y_train, y_test = train_test_split(processed_features, labels, test_size=0.33, random_state=42)"
      ],
      "execution_count": null,
      "outputs": []
    },
    {
      "cell_type": "code",
      "metadata": {
        "colab": {
          "base_uri": "https://localhost:8080/"
        },
        "id": "4DGKk4zT74Ki",
        "outputId": "6d3d557a-5980-43f1-f8cf-7731a2d50d30"
      },
      "source": [
        "##########################\n",
        "# pipelines for training different models\n",
        "##########################\n",
        "\n",
        "sgd = Pipeline([\n",
        "        # (\"tfidf_vectorizer\", tfidf),\n",
        "        (\"sgd\", SGDClassifier(loss='hinge', penalty='l2', alpha=1e-3, random_state=42, max_iter=5, tol=None))\n",
        "    ])\n",
        "\n",
        "svc = Pipeline([\n",
        "        (\"svc\", SVC(random_state=4, kernel='rbf'))\n",
        "    ])\n",
        "\n",
        "log_reg = Pipeline([ \n",
        "    ('log_reg', LogisticRegression(penalty=\"elasticnet\",l1_ratio=0.5,solver=\"saga\", random_state=4, n_jobs=-1))\n",
        "    ])\n",
        "\n",
        "naive_bayes = Pipeline([          \n",
        "        ('naive_bayes', MultinomialNB()),          \n",
        "    ])\n",
        "\n",
        "decision_trees = Pipeline([\n",
        "    ('decision_trees', DecisionTreeClassifier())\n",
        "    ])\n",
        "\n",
        "extra_trees = Pipeline([\n",
        "    ('extra_trees', ExtraTreesClassifier(random_state=4, n_jobs=-1, max_features=\"auto\", warm_start=True))\n",
        "    ])\n",
        "\n",
        "random_forest = Pipeline([\n",
        "        ('random_forest', RandomForestClassifier(n_estimators=200, random_state=4, n_jobs=-1, max_features=\"auto\", warm_start=True)),\n",
        "    ])\n",
        "\n",
        "grad_boost = Pipeline([          \n",
        "        ('grad_boost', GradientBoostingClassifier(random_state=4, subsample=0.8, max_features=\"auto\", warm_start=True)),          \n",
        "    ])\n",
        "\n",
        "all_models = [\n",
        "    (\"sgd\", sgd),\n",
        "    (\"svc\", svc),\n",
        "    (\"log_reg\", log_reg),\n",
        "    # ('naive_bayes', naive_bayes),\n",
        "    # (\"decision_trees\", decision_trees),\n",
        "    # (\"extra_trees\", extra_trees),\n",
        "    # (\"random_forest\", random_forest),\n",
        "    # (\"grad_boost\", grad_boost),\n",
        "    ]\n",
        "\n",
        "##########################\n",
        "# scoring models\n",
        "##########################\n",
        "unsorted_scores = [(name, cross_val_score(model, X_train, y_train, cv=2).mean()) for name, model in all_models]\n",
        "scores = sorted(unsorted_scores, key=lambda x: -x[1])\n",
        "print(scores)\n"
      ],
      "execution_count": null,
      "outputs": [
        {
          "output_type": "stream",
          "text": [
            "[('svc', 0.9852398855362718), ('log_reg', 0.979654969236569), ('sgd', 0.9674546023670053)]\n"
          ],
          "name": "stdout"
        }
      ]
    },
    {
      "cell_type": "code",
      "metadata": {
        "colab": {
          "base_uri": "https://localhost:8080/"
        },
        "id": "BkqjWDTRdltE",
        "outputId": "b4b706db-c2a1-46e1-ff4c-3cfa711ccd50"
      },
      "source": [
        "##########################\n",
        "# Train the best model\n",
        "##########################\n",
        "model = svc\n",
        "model.fit(X_train, y_train)\n",
        "y_pred = model.predict(X_test)\n",
        "print(y_pred[:10])\n",
        "print(accuracy_score(y_test, y_pred))\n",
        "print(classification_report(y_test, y_pred))\n",
        "print(confusion_matrix(y_test, y_pred))"
      ],
      "execution_count": null,
      "outputs": [
        {
          "output_type": "stream",
          "text": [
            "[1 0 1 1 0 0 1 0 0 0]\n",
            "0.9909563339407438\n",
            "              precision    recall  f1-score   support\n",
            "\n",
            "           0       0.99      0.99      0.99      7796\n",
            "           1       0.99      0.99      0.99      7021\n",
            "\n",
            "    accuracy                           0.99     14817\n",
            "   macro avg       0.99      0.99      0.99     14817\n",
            "weighted avg       0.99      0.99      0.99     14817\n",
            "\n",
            "[[7716   80]\n",
            " [  54 6967]]\n"
          ],
          "name": "stdout"
        }
      ]
    }
  ]
}